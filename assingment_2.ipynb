{
  "nbformat": 4,
  "nbformat_minor": 0,
  "metadata": {
    "colab": {
      "provenance": []
    },
    "kernelspec": {
      "name": "python3",
      "display_name": "Python 3"
    },
    "language_info": {
      "name": "python"
    }
  },
  "cells": [
    {
      "cell_type": "markdown",
      "source": [
        "#Data Types and Structures Questions"
      ],
      "metadata": {
        "id": "4ZG4I35YIxfU"
      }
    },
    {
      "cell_type": "markdown",
      "source": [
        "1.  What are data structures, and why are they important?\n",
        " - Data structures are specialized formats for organizing, storing, and managing data in a computer so that it can be accessed and modified efficiently. They define the relationship between data, the operations that can be performed on the data, and the rules for accessing and manipulating it.\n",
        "\n",
        "    -> Common Types of Data Structures are:\n",
        "\n",
        " 1. Arrays - Fixed-size collections of elements of the same type.\n",
        "\n",
        " 2. Linked Lists - Elements (nodes) connected via pointers, allowing dynamic memory allocation.\n",
        "\n",
        " 3. Stacks - LIFO (Last In, First Out) structure.\n",
        "\n",
        " 4. Queues - FIFO (First In, First Out) structure.\n",
        "\n",
        " 5. Trees - Hierarchical structures (e.g., Binary Trees, AVL Trees).\n",
        "\n",
        " 6. Graphs - Networks of nodes connected by edges.\n",
        "\n",
        " 7. Hash Tables - Key-value pairs for fast lookups.\n",
        "\n",
        " 8. Heaps - Specialized tree-based structures (e.g., for priority queues).\n",
        "\n",
        "    -> Data Structures Important because they help in\n",
        "\n",
        " 1. Efficiency – Proper data structures optimize time (speed) and space (memory) complexity.\n",
        "\n",
        " 2. Organization – Helps in managing large datasets logically.\n",
        "\n",
        " 3. Algorithm Optimization – Many algorithms rely on efficient data structures (e.g., Dijkstra's algorithm uses heaps).\n",
        "\n",
        " 4. Real-world Problem Solving – Used in databases, AI, operating systems, and more.\n",
        "\n",
        " 5. Scalability – Ensures software can handle growing amounts of data efficiently.\n",
        "---\n",
        "2.  Explain the difference between mutable and immutable data types with examples?\n",
        " - In Python, data types are categorized based on whether their values can be changed after creation. This distinction affects performance, memory usage, and how data is passed in functions.\n",
        "\n",
        "1. Mutable Data Types\n",
        "Definition: Can be modified after creation (i.e., their internal state can change).\n",
        "\n",
        "  - Examples: Lists, dictionaries, sets.\n",
        "\n",
        "  - Example: List (Mutable)\n",
        "\n",
        "  - code:\n",
        "\n",
        "  my_list = [1, 2, 3]\n",
        "\n",
        "  my_list[0] = 99  # Modify element\n",
        "\n",
        "  my_list.append(4)  # Add element\n",
        "\n",
        "  print(my_list)  # Output: [99, 2, 3, 4] (original object changed)\n",
        "\n",
        "2. Immutable Data Types\n",
        "Definition: Cannot be changed after creation. Any \"modification\" creates a new object.\n",
        "\n",
        " - Examples: Integers, floats, strings, tuples, frozen sets.\n",
        "\n",
        " - Example: String (Immutable)\n",
        "\n",
        " - code:\n",
        "\n",
        " s = \"hello\"\n",
        "\n",
        " s[0] = \"H\"  # Raises TypeError (strings are immutable)\n",
        "\n",
        " ##### Instead, create a new string:\n",
        "\n",
        " s = \"H\" + s[1:]  # New object: \"Hello\"\n",
        "\n",
        "3. It matters because of many reasons\n",
        "\n",
        " ->  Memory Efficiency:\n",
        "\n",
        "  - Immutable objects can be cached (e.g., small integers or strings in Python).\n",
        "\n",
        "  - Mutable objects require dynamic memory allocation.\n",
        "\n",
        " -> Function Arguments:\n",
        "\n",
        "  - Immutable objects are passed by value (changes inside functions don’t affect the original).\n",
        "\n",
        "  - Mutable objects are passed by reference (changes inside functions modify the original).\n",
        "\n",
        " -> Dictionary Keys:\n",
        "\n",
        "  - Only immutable types (e.g., strings, numbers, tuples) can be keys.\n",
        "\n",
        "  - Lists/dictionaries cannot be keys (they are mutable and unhashable).\n",
        "\n",
        "---\n",
        "3. What are the main differences between lists and tuples in Python?\n",
        "\n",
        "- In Python, lists and tuples are both sequence data types used to store collections of items, but they have key differences:\n",
        "\n",
        "1. Mutability\n",
        "- Lists are mutable (can be modified after creation).\n",
        "\n",
        " code:\n",
        "\n",
        " my_list = [1, 2, 3]\n",
        "\n",
        " my_list[0] = 10  # Valid\n",
        "\n",
        " my_list.append(4)  # Valid\n",
        "\n",
        "- Tuples are immutable (cannot be modified after creation).\n",
        "\n",
        " code:\n",
        "\n",
        " my_tuple = (1, 2, 3)\n",
        "\n",
        " my_tuple[0] = 10  #TypeError: 'tuple' object does not support item assignment\n",
        "\n",
        "2. Syntax\n",
        "- Lists use square brackets [].\n",
        "\n",
        " code:\n",
        "\n",
        " my_list = [1, 2, 3]\n",
        "\n",
        " Tuples use parentheses () (but parentheses are optional if context is clear).\n",
        "\n",
        "code:\n",
        "\n",
        " my_tuple = (1, 2, 3)\n",
        "\n",
        " single_element_tuple = (1,)  # Comma is necessary for single-element tuples\n",
        "\n",
        "3. Performance\n",
        "\n",
        "- Tuples are faster than lists because they are immutable and stored more efficiently in memory.\n",
        "\n",
        "- Lists consume more memory and are slower for iteration due to their dynamic nature.\n",
        "\n",
        "4. Use Cases\n",
        "\n",
        "->Use Lists when:\n",
        "\n",
        "- You need a modifiable collection (e.g., adding/removing elements).\n",
        "\n",
        "- You require dynamic data storage (e.g., appending items in a loop).\n",
        "\n",
        "->Use Tuples when:\n",
        "\n",
        "- You need an immutable collection (e.g., dictionary keys, function arguments).\n",
        "\n",
        "- You want to ensure data integrity (prevents accidental modification).\n",
        "\n",
        "- You need better performance for fixed-size data.\n",
        "\n",
        "5. Built-in Methods\n",
        "- Lists have more methods (append(), extend(), remove(), pop(), etc.).\n",
        "\n",
        "code:\n",
        "\n",
        "my_list = [1, 2, 3]\n",
        "\n",
        "my_list.append(4)  # [1, 2, 3, 4]\n",
        "\n",
        "- Tuples have fewer methods (mostly count() and index()).\n",
        "\n",
        "code:\n",
        "\n",
        "my_tuple = (1, 2, 2, 3)\n",
        "\n",
        "print(my_tuple.count(2))  # 2 (counts occurrences)\n",
        "6. Memory Efficiency\n",
        "- Tuples are more memory-efficient than lists due to their fixed size.\n",
        "\n",
        "- Lists allocate extra space for potential growth, making them consume more memory.\n",
        "---\n",
        "4. Describe how dictionaries store data?\n",
        "\n",
        "- In Python, **dictionaries** (`dict`) are highly optimized data structures that store data as **key-value pairs** using a **hash table** implementation. Here’s a detailed breakdown of how they work under the hood:\n",
        "\n",
        "\n",
        "### **1. Key-Value Pair Structure**\n",
        "- Each entry in a dictionary consists of:\n",
        "  - A **unique key** (must be immutable: `str`, `int`, `tuple`, etc.).\n",
        "  - A **value** (can be any Python object: `list`, `dict`, `int`, etc.).\n",
        "- Example:\n",
        "  ```python\n",
        "  person = {\"name\": \"Alice\", \"age\": 30, \"city\": \"New York\"}\n",
        "  ```\n",
        "  - `\"name\"`, `\"age\"`, and `\"city\"` are **keys**.\n",
        "  - `\"Alice\"`, `30`, and `\"New York\"` are their corresponding **values**.\n",
        "\n",
        "\n",
        "### **2. Hash Table Mechanism**\n",
        "Dictionaries use **hash tables** to achieve **average O(1) time complexity** for lookups, insertions, and deletions. Here’s how it works:\n",
        "\n",
        "#### **Step 1: Hashing the Key**\n",
        "- When you add a key-value pair, Python calculates a **hash** of the key using `hash(key)`.\n",
        "  - Example: `hash(\"name\")` → returns a fixed-size integer (e.g., `145234532`).\n",
        "- This hash determines the **memory location (bucket)** where the key-value pair will be stored.\n",
        "\n",
        "#### **Step 2: Storing the Data**\n",
        "- The hash table allocates a **bucket** (a slot in memory) for the key-value pair.\n",
        "- If two keys produce the same hash (**hash collision**), Python resolves it by:\n",
        "  1. **Open Addressing**: Finds the next available bucket.\n",
        "  2. **Chaining**: Stores multiple entries in the same bucket (less common in modern Python).\n",
        "\n",
        "#### **Step 3: Retrieving Values**\n",
        "- When you access `dict[key]`, Python:\n",
        "  1. Recomputes `hash(key)`.\n",
        "  2. Looks up the corresponding bucket.\n",
        "  3. Returns the value if the key matches (or handles collisions).\n",
        "\n",
        "\n",
        "\n",
        "### **3. Internal Structure (Simplified)**\n",
        "- A Python dictionary’s memory layout includes:\n",
        " - **Hash table**: An array of indices pointing to entries.\n",
        " - **Entries**: Store the key, value, and the computed hash.\n",
        " - **Indices**: The hash table maps hashes to entry locations.\n",
        "\n",
        "**Visualization**:\n",
        "```\n",
        "Hash Table (Indices): [None, 0, None, 1, 2, None]\n",
        "Entries:\n",
        "Index 0: (\"name\", \"Alice\", hash(\"name\"))\n",
        "Index 1: (\"age\", 30, hash(\"age\"))\n",
        "Index 2: (\"city\", \"NY\", hash(\"city\"))\n",
        "```\n",
        "\n",
        "\n",
        "\n",
        "### **4. Key Characteristics**\n",
        "| Feature | Description |\n",
        "|---------|-------------|\n",
        "| **Uniqueness** | Keys must be unique (duplicates overwrite old values). |\n",
        "| **Mutability** | Keys cannot change (must be immutable), but values can. |\n",
        "| **Dynamic Resizing** | Grows/shrinks as items are added/removed. |\n",
        "| **Order Preservation** | Insertion order is maintained (Python ≥3.7). |\n",
        "| **Speed** | O(1) average time for lookups/insertions/deletions. |\n",
        "\n",
        "\n",
        "\n",
        "### **5. Memory and Performance**\n",
        "- **Memory Overhead**: Dictionaries consume more memory than lists/tuples due to hash table metadata.\n",
        "- **Collision Handling**: Too many collisions degrade performance to O(n) (rare in practice).\n",
        "- **Optimizations**: Python uses compact dictionaries (since 3.6) to reduce memory usage.\n",
        "\n",
        "\n",
        "\n",
        "### **6. Example: Dictionary Internals in Action**\n",
        "```python\n",
        "data = {}\n",
        "data[\"id\"] = 100  # Steps:\n",
        "                   # 1. hash(\"id\") → e.g., 12345\n",
        "                   # 2. Store (12345, \"id\", 100) in a bucket.\n",
        "print(data[\"id\"])  # 1. Recompute hash(\"id\") → 12345\n",
        "                   # 2. Fetch value from the bucket.\n",
        "```\n",
        "\n",
        "\n",
        "\n",
        "### **7. When to Use Dictionaries?**\n",
        "**Best for**:\n",
        "- Fast lookups (e.g., database records).\n",
        "- Structured data (e.g., JSON-like objects).\n",
        "- Counting occurrences (e.g., `word_counts[\"hello\"] += 1`).\n",
        "\n",
        "**Avoid for**:\n",
        "- Ordered data (unless using Python ≥3.7).\n",
        "- Memory-critical applications (use tuples/lists instead).\n",
        "\n",
        "\n",
        "\n",
        "### **8. Comparison with Other Structures**\n",
        "| Operation | Dictionary (`dict`) | List (`list`) | Tuple (`tuple`) |\n",
        "|-----------|---------------------|---------------|-----------------|\n",
        "| **Lookup by Key** | O(1) | O(n) (slow) | O(n) (slow) |\n",
        "| **Insertion** | O(1) | O(1) (append) | Immutable |\n",
        "| **Memory Use** | High | Medium | Low |\n",
        "\n",
        "---\n",
        "5. Why might you use a set instead of a list in Python?\n",
        "\n",
        "- In Python, you might choose a **set** over a **list** in the following scenarios, due to sets' unique properties and performance advantages:\n",
        "\n",
        "### **Key Reasons to Use a Set Instead of a List**\n",
        "1. **Enforcing Uniqueness**  \n",
        "   - Sets automatically remove duplicates, while lists allow them.  \n",
        "   \n",
        "   - *Use case*: Deduplicating data (e.g., unique user IDs, distinct words in a document).\n",
        "\n",
        "2. **Faster Membership Testing**  \n",
        "   - Sets use hash tables for **O(1)** (constant-time) lookups, while lists require **O(n)** (linear-time) searches.  \n",
        "   \n",
        "   - *Use case*: Checking if an item exists in a large collection (e.g., spam filters, caching).\n",
        "\n",
        "3. **Mathematical Set Operations**  \n",
        "   - Sets support unions (`|`), intersections (`&`), differences (`-`), and symmetric differences (`^`).  \n",
        "   - Example:  \n",
        "     \n",
        "   - *Use case*: Comparing datasets (e.g., shared followers, common tags).\n",
        "\n",
        "4. **Optimized for Performance**  \n",
        "   - Sets are faster for adding/removing elements (`O(1)`) compared to lists (`O(n)` for insertions/deletions in the middle).  \n",
        "   - Example:  \n",
        "     \n",
        "   - *Use case*: Dynamic collections where uniqueness matters (e.g., real-time data filtering).\n",
        "\n",
        "5. **Memory Efficiency for Large Unique Collections**  \n",
        "   - While sets consume slightly more memory per element, their O(1) lookups can save time and resources for large datasets.  \n",
        "   - *Use case*: Handling large datasets where duplicates are irrelevant (e.g., unique IP addresses).\n",
        "\n",
        "- Choose **sets** for speed and uniqueness, and **lists** for ordered, indexable, or duplicate-friendly collections.\n",
        "---\n",
        "6. What is a string in Python, and how is it different from a list?\n",
        "\n",
        "- A **string** in Python is a **sequence of characters** enclosed in quotes (`' '`, `\" \"`, `''' '''`, or `\"\"\" \"\"\"`). It is an **immutable**, **ordered** data type used to represent text.  \n",
        "\n",
        "#### **Example:**\n",
        "```python\n",
        "text = \"Hello, Python!\"  # A string\n",
        "```\n",
        "\n",
        "\n",
        "### **Key Differences Between Strings and Lists**\n",
        "\n",
        "| Feature               | String (`str`)                          | List (`list`)                          |\n",
        "|-----------------------|----------------------------------------|----------------------------------------|\n",
        "| **Purpose**           | Stores text (sequence of characters)   | Stores any data type (sequence of items) |\n",
        "| **Mutability**        | **Immutable** (cannot be changed)      | **Mutable** (can be modified)          |\n",
        "| **Syntax**            | Enclosed in quotes (`\" \"`, `' '`)      | Enclosed in square brackets (`[ ]`)    |\n",
        "| **Elements**          | Characters (Unicode)                   | Any Python object (int, str, list, etc.) |\n",
        "| **Indexing/Slicing**  | Supported (`text[0]` → `'H'`)          | Supported (`list[0]` → first element)  |\n",
        "| **Common Methods**    | `upper()`, `split()`, `replace()`      | `append()`, `pop()`, `sort()`          |\n",
        "| **Memory Efficiency** | More compact (stores chars efficiently) | More flexible but consumes more memory |\n",
        "\n",
        "\n",
        "\n",
        "### **Summary**\n",
        "- **Strings** are for **text**, are **immutable**, and support text-specific methods.\n",
        "- **Lists** are for **general sequences**, are **mutable**, and support flexible modifications.\n",
        "\n",
        "Choose based on whether you need **text handling** (string) or **data collection manipulation** (list).\n",
        "---\n",
        "7. How do tuples ensure data integrity in Python?\n",
        "\n",
        "- Tuples guarantee **data integrity** (safety and consistency) through their **immutable** nature. Here’s how they achieve this and why it matters:\n",
        "\n",
        "### **1. Immutability: The Core Mechanism**  \n",
        "- **Tuples cannot be modified** after creation (no additions, deletions, or changes to elements).  \n",
        "- Example:  \n",
        "  ```python\n",
        "  point = (10, 20)\n",
        "  point[0] = 5  # ❌ TypeError: 'tuple' object does not support item assignment\n",
        "  ```\n",
        "- **Why this ensures integrity**:  \n",
        "  - Prevents accidental or malicious modifications to data.  \n",
        "  - Critical for constants (e.g., configuration values, database records).  \n",
        "\n",
        "\n",
        "### **2. Use Cases Where Data Integrity Matters**  \n",
        "#### **a) Dictionary Keys**  \n",
        "- Only immutable types (like tuples) can be dictionary keys. Lists cannot.  \n",
        "  ```python\n",
        "  valid_key = (1, 2)  # ✅ Works as a key\n",
        "  invalid_key = [1, 2]  # ❌ TypeError: unhashable type: 'list'\n",
        "  ```\n",
        "\n",
        "#### **b) Function Arguments**  \n",
        "- Passing a tuple to a function ensures the original data won’t be altered.  \n",
        "  ```python\n",
        "  def process_coords(coords):\n",
        "      # coords cannot be modified accidentally\n",
        "      x, y = coords\n",
        "      return x * y\n",
        "\n",
        "  process_coords((3, 4))  # Output: 12\n",
        "  ```\n",
        "\n",
        "#### **c) Thread-Safe Operations**  \n",
        "- Immutable tuples are inherently **thread-safe** (no risk of race conditions in multi-threaded code).  \n",
        "\n",
        "\n",
        "### **3. How Tuples Compare to Lists**  \n",
        "| Feature               | Tuple (`()`)                          | List (`[]`)                          |  \n",
        "|-----------------------|--------------------------------------|--------------------------------------|  \n",
        "| **Mutability**        | Immutable (safe)                     | Mutable (risk of unintended changes) |  \n",
        "| **Data Integrity**    | High (fixed structure)               | Low (can be modified anytime)        |  \n",
        "| **Use Case**          | Constants, keys, safe data transfer  | Dynamic data storage                 |  \n",
        "\n",
        "\n",
        "### **4. When to Use Tuples for Integrity**  \n",
        "**Best for**:  \n",
        "- Storing **configuration settings** (e.g., `VERSION = (1, 0, 0)`).  \n",
        "- Returning **multiple values** from functions (safe from modification).  \n",
        "- **Database records** (ensuring read-only access).  \n",
        "\n",
        "**Avoid when**:  \n",
        "- You need to frequently modify data (use lists instead).  \n",
        "\n",
        "\n",
        "### **Key points:**  \n",
        "Tuples enforce data integrity by **locking data at creation**, making them ideal for:  \n",
        "- **Unchangeable constants** (e.g., mathematical constants like `PI = (3, 14)`).  \n",
        "- **Stable data structures** (e.g., geographic coordinates).  \n",
        "- **Secure multi-threaded or distributed systems**.  \n",
        "\n",
        "For mutable data, use **lists**; for immutable safety, use **tuples**.\n",
        "---\n",
        "8. What is a hash table, and how does it relate to dictionaries in Python?\n",
        "\n",
        "- A **hash table** is a data structure that stores key-value pairs by using a **hash function** to compute an index (or \"bucket\") where the value should be placed. It enables **fast O(1) average-time** lookups, insertions, and deletions.  \n",
        "\n",
        "#### **How It Works:**\n",
        "1. **Hash Function**: Converts a key into a unique integer (hash).  \n",
        "   - Example: `hash(\"apple\")` → `2834823` (simplified).  \n",
        "2. **Bucket Indexing**: The hash maps to a memory location (bucket).  \n",
        "3. **Collision Handling**: If two keys hash to the same bucket, Python resolves it (via open addressing or chaining).  \n",
        "\n",
        "\n",
        "### **How Hash Tables Relate to Python Dictionaries**  \n",
        "In Python, **dictionaries (`dict`)** are implemented using hash tables. Here’s the connection:  \n",
        "\n",
        "| Feature               | Hash Table Concept                  | Python Dictionary (`dict`)           |  \n",
        "|-----------------------|------------------------------------|--------------------------------------|  \n",
        "| **Key-Value Storage** | Stores pairs in buckets            | `{\"key\": \"value\"}`                   |  \n",
        "| **Hash Function**     | `hash(key)` computes an index      | Uses built-in `hash()`               |  \n",
        "| **Lookup Speed**      | O(1) average time                 | `dict[\"key\"]` is instant             |  \n",
        "| **Collisions**        | Resolved via probing/chaining      | Handled internally (optimized)       |  \n",
        "| **Mutability**        | Keys must be immutable             | Keys: `str`, `int`, `tuple`, etc.    |  \n",
        "\n",
        "\n",
        "### **Why Dictionaries Use Hash Tables**  \n",
        "1. **Speed**: Direct access to values via hashed keys (no slow scans).  \n",
        "2. **Efficiency**: Memory trade-off for O(1) operations.  \n",
        "3. **Uniqueness**: Ensures keys are unique (duplicates overwrite).  \n",
        "\n",
        "\n",
        "### **Key points**  \n",
        "- Dictionaries **are** hash tables in Python.  \n",
        "- They rely on **hashing** for speed and **immutable keys** for stability.  \n",
        "- Collisions are handled seamlessly (you rarely need to worry).  \n",
        "---\n",
        "9. Can lists contain different data types in Python?\n",
        "\n",
        "- **Yes!** Python lists are **heterogeneous**, meaning they can store elements of **any data type**, including:  \n",
        " - Numbers (`int`, `float`)  \n",
        " - Strings (`str`)  \n",
        " - Booleans (`bool`)  \n",
        " - Other lists, tuples, dictionaries, sets  \n",
        " - Even functions or objects  \n",
        "\n",
        "\n",
        "\n",
        "### **Example: Mixed-Data List**  \n",
        "```python\n",
        "mixed_list = [\n",
        "    42,                         # int\n",
        "    \"Hello, World!\",            # str\n",
        "    3.14,                       # float\n",
        "    True,                       # bool\n",
        "    [\"nested\", \"list\"],         # list\n",
        "    {\"key\": \"value\"},           # dict\n",
        "    (1, 2),                     # tuple\n",
        "    lambda x: x * 2,            # function\n",
        "    None                        # NoneType\n",
        "]\n",
        "```\n",
        "  ---\n",
        "\n",
        "10. Explain why strings are immutable in Python?\n",
        "\n",
        "- Python strings are **immutable**, meaning once created, their contents cannot be changed. This design choice has several key benefits:\n",
        "\n",
        "\n",
        "\n",
        "## **1. Performance Optimization**  \n",
        "- **Hashability**: Immutable strings can be used as keys in dictionaries (hash tables), since their hash value never changes.  \n",
        "  ```python\n",
        "  dict_key = {\"name\": \"Alice\"}  # \"name\" is a fixed key\n",
        "  ```\n",
        "- **Memory Efficiency**: Python can **intern** (reuse) identical strings (e.g., short strings like `\"hello\"` are stored once in memory).  \n",
        "  ```python\n",
        "  a = \"hello\"\n",
        "  b = \"hello\"\n",
        "  print(a is b)  # True (same memory object)\n",
        "  ```\n",
        "\n",
        "## **2. Thread Safety**  \n",
        "- Immutable strings are **automatically thread-safe**—no risk of corruption when shared across threads.  \n",
        "- Example:  \n",
        "  ```python\n",
        "  # Safe to pass between threads without locks\n",
        "  global_string = \"Read-only data\"\n",
        "  ```\n",
        "\n",
        "## **3. Security & Predictability**  \n",
        "- Prevents accidental modification (e.g., altering a string used as a dictionary key would break the hash table).  \n",
        "- Example:  \n",
        "  ```python\n",
        "  config = {\"API_KEY\": \"secret123\"}\n",
        "  # config[\"API_KEY\"][0] = \"X\"  # ❌ Impossible (would break security)\n",
        "  ```\n",
        "\n",
        "## **4. Caching & Optimization**  \n",
        "- Python **interns** strings (reuses them if identical), saving memory.  \n",
        "\n",
        "- This is why `\"hello\" + \"world\"` is optimized to `\"helloworld\"` at compile time.\n",
        "\n",
        "## **5. Consistency with Other Immutable Types**  \n",
        "- Python treats **tuples**, **integers**, and **frozen sets** as immutable for similar reasons (safety, hashing, optimization).  \n",
        "\n",
        "---\n",
        "11. What advantages do dictionaries offer over lists for certain tasks?\n",
        "\n",
        "\n",
        "- Dictionaries (`dict`) and lists (`list`) serve different purposes, but dictionaries excel in specific scenarios due to their **key-value structure** and **hash table implementation**. Here’s when and why you should prefer dictionaries:\n",
        "\n",
        "\n",
        "\n",
        "### **1. Faster Lookups (O(1) vs. O(n))**  \n",
        "- **Dictionary**: Uses **hash tables** for **constant-time (O(1))** lookups by key.  \n",
        "  ```python\n",
        "  user = {\"id\": 123, \"name\": \"Alice\"}\n",
        "  print(user[\"name\"])  # O(1) — instant, even for large dictionaries.\n",
        "  ```\n",
        "- **List**: Requires **linear scans (O(n))** to find values.  \n",
        "  ```python\n",
        "  users = [{\"id\": 123, \"name\": \"Alice\"}, ...]\n",
        "  # Slow for large lists — must check each item:\n",
        "  alice = next(u for u in users if u[\"id\"] == 123)  # O(n)\n",
        "  ```\n",
        "\n",
        "**Use Case**: Databases, caching, or anytime you need fast access by a unique identifier (e.g., user IDs, API responses).\n",
        "\n",
        "\n",
        "\n",
        "### **2. Natural Representation of Structured Data**  \n",
        "- **Dictionary**: Mirrors real-world **key-value relationships** (e.g., JSON, database records).  \n",
        "  ```python\n",
        "  product = {\"id\": 101, \"name\": \"Laptop\", \"price\": 999.99}\n",
        "  ```\n",
        "- **List**: Requires manual indexing or nested structures, which are harder to read.  \n",
        "  ```python\n",
        "  product = [101, \"Laptop\", 999.99]  # What does index 1 mean? Unclear.\n",
        "  ```\n",
        "\n",
        "**Use Case**: Configurations, API responses, or any structured data where labels matter (e.g., `{\"username\": \"Alice\"}` vs. `[\"Alice\"]`).\n",
        "\n",
        "\n",
        "\n",
        "### **3. Efficient Membership Testing**  \n",
        "- **Dictionary**: Check if a key exists **instantly** with `in`.  \n",
        "  ```python\n",
        "  if \"email\" in user:  # O(1)\n",
        "  ```\n",
        "- **List**: Requires scanning the entire list.  \n",
        "  ```python\n",
        "  if \"admin\" in [\"user\", \"moderator\", \"admin\"]:  # O(n)\n",
        "  ```\n",
        "\n",
        "**Use Case**: Validating keys (e.g., checking if a feature flag is enabled).\n",
        "\n",
        "\n",
        "### **4. Flexible Key-Value Updates**  \n",
        "- **Dictionary**: Update, add, or delete keys **dynamically**.  \n",
        "  ```python\n",
        "  user[\"role\"] = \"admin\"  # Add/modify in O(1)\n",
        "  del user[\"id\"]          # Delete in O(1)\n",
        "  ```\n",
        "- **List**: Requires manual tracking of indices or slow `append()`/`remove()`.  \n",
        "  ```python\n",
        "  users.remove(\"Alice\")  # O(n) — slow for large lists.\n",
        "  ```\n",
        "\n",
        "**Use Case**: Dynamic data (e.g., user sessions, real-time analytics).\n",
        "\n",
        "\n",
        "\n",
        "### **5. Avoid Duplicates with Keys**  \n",
        "- **Dictionary**: **Keys are unique**, automatically avoiding duplicates.  \n",
        "  ```python\n",
        "  colors = {\"red\": \"#FF0000\", \"green\": \"#00FF00\", \"red\": \"#FF0000\"}  # Only one \"red\".\n",
        "  ```\n",
        "- **List**: Duplicates require manual checks.  \n",
        "  ```python\n",
        "  if \"red\" not in colors:\n",
        "      colors.append(\"red\")\n",
        "  ```\n",
        "\n",
        "**Use Case**: Counting word frequencies, deduplication.\n",
        "\n",
        "\n",
        "\n",
        "### **6. Better for Sparse Data**  \n",
        "- **Dictionary**: Stores only defined keys (memory-efficient for sparse data).  \n",
        "  ```python\n",
        "  sparse = {1: \"a\", 1000: \"b\"}  # Only stores 2 keys.\n",
        "  ```\n",
        "- **List**: Must allocate space for all indices up to the largest one.  \n",
        "  ```python\n",
        "  sparse = [None] * 1000\n",
        "  sparse[1] = \"a\"\n",
        "  sparse[1000] = \"b\"  # Wastes memory for indices 2-999.\n",
        "  ```\n",
        "\n",
        "**Use Case**: Matrix representations, graph edges.\n",
        "\n",
        "---\n",
        "\n",
        "12. Describe a scenario where using a tuple would be preferable over a list?\n",
        "\n",
        "\n",
        "- Tuples (`tuple`) and lists (`list`) are both sequence types in Python, but **tuples are immutable**, making them ideal for specific use cases where **data integrity, safety, and performance** matter. Here’s a key scenario where tuples shine:\n",
        "\n",
        "### **1. Storing Constant/Read-Only Data**  \n",
        "**Use Case**: Configuration settings, enumerated values, or fixed datasets.  \n",
        "**Why Tuples?**  \n",
        "- **Immutability** ensures data cannot be accidentally modified.  \n",
        "- **Memory-efficient** (tuples are smaller in size than lists for the same data).  \n",
        "\n",
        "\n",
        "\n",
        "\n",
        "### **2. Dictionary Keys (Hashability)**  \n",
        "**Use Case**: Using sequences as dictionary keys.  \n",
        "**Why Tuples?**  \n",
        "- **Lists are unhashable** (cannot be keys).  \n",
        "- **Tuples are hashable** if all their elements are immutable.  \n",
        "\n",
        "\n",
        "\n",
        "\n",
        "### **3. Function Arguments and Return Values**  \n",
        "**Use Case**: Returning multiple values from a function or passing fixed arguments.  \n",
        "**Why Tuples?**  \n",
        "- **Immutability** prevents callers from modifying the data unexpectedly.  \n",
        "- **Lightweight** compared to lists.  \n",
        "\n",
        "\n",
        "\n",
        "### **4. Thread-Safe Data Sharing**  \n",
        "**Use Case**: Passing data between threads (concurrency).  \n",
        "**Why Tuples?**  \n",
        "- **Immutable objects are thread-safe** (no risk of race conditions).  \n",
        "\n",
        "\n",
        "### **5. Performance Optimization**  \n",
        "**Use Case**: Large read-only sequences.  \n",
        "**Why Tuples?**  \n",
        "- **Faster iteration** than lists (optimized by Python).  \n",
        "- **Smaller memory footprint** (no overhead for dynamic resizing).  \n",
        "---\n",
        "\n",
        "13. How do sets handle duplicate values in Python?\n",
        "\n",
        "- In Python, **sets** are unordered collections of **unique** elements. This means that sets automatically handle duplicate values by ensuring that each element appears only once.\n",
        "\n",
        "### How Sets Handle Duplicates:\n",
        "1. **No Duplicates Allowed**: If you try to add a duplicate value to a set, it will be silently ignored.\n",
        "2. **Only Unique Elements**: When creating a set from a list or another iterable that contains duplicates, the resulting set will contain only the unique elements.\n",
        "\n",
        "### Example:\n",
        "```python\n",
        "# Creating a set with duplicates\n",
        "my_set = {1, 2, 2, 3, 3, 3}\n",
        "print(my_set)  # Output: {1, 2, 3}\n",
        "\n",
        "# Adding a duplicate value\n",
        "my_set.add(2)\n",
        "print(my_set)  # Output remains {1, 2, 3}\n",
        "\n",
        "# Creating a set from a list with duplicates\n",
        "my_list = [1, 2, 2, 3, 3, 4]\n",
        "unique_set = set(my_list)\n",
        "print(unique_set)  # Output: {1, 2, 3, 4}\n",
        "```\n",
        "\n",
        "### Key Points:\n",
        "- Sets use **hashing** to enforce uniqueness, so all elements must be **hashable** (immutable types like `int`, `str`, `tuple` are allowed, but `list` and `dict` are not).\n",
        "- Duplicates are automatically removed when the set is created or modified.\n",
        "- The order of elements in a set is **not preserved** (unlike lists or tuples).\n",
        "\n",
        "This behavior makes sets very useful for tasks like:\n",
        "- Removing duplicates from a list.\n",
        "- Checking membership efficiently (`O(1)` average time complexity).\n",
        "- Performing mathematical set operations (`union`, `intersection`, `difference`, etc.).\n",
        "---\n",
        "\n",
        "14. How does the “in” keyword work differently for lists and dictionaries?\n",
        "\n",
        "- In Python, the `in` keyword is used to check for membership (i.e., whether an element exists in a collection). However, its behavior differs slightly between **lists** and **dictionaries** due to their underlying data structures.\n",
        "\n",
        "\n",
        "\n",
        "### **`in` with Lists**\n",
        "- **Checks for value existence** in the list.\n",
        "- **Time Complexity: `O(n)`** (linear search—slower for large lists).\n",
        "- Works by iterating through each element until a match is found.\n",
        "\n",
        "#### Example:\n",
        "```python\n",
        "my_list = [10, 20, 30, 40]\n",
        "\n",
        "print(20 in my_list)  # Output: True (checks if 20 is a value in the list)\n",
        "print(50 in my_list)  # Output: False\n",
        "```\n",
        "\n",
        "\n",
        "### **`in` with Dictionaries**\n",
        "- **Checks for key existence** (not values).\n",
        "- **Time Complexity: `O(1)`** (average case, due to hash table lookup—very fast).\n",
        "- Does not check values unless explicitly specified (e.g., using `dict.values()`).\n",
        "\n",
        "#### Example:\n",
        "```python\n",
        "my_dict = {\"a\": 1, \"b\": 2, \"c\": 3}\n",
        "\n",
        "print(\"b\" in my_dict)       # Output: True (checks if \"b\" is a key)\n",
        "print(2 in my_dict)         # Output: False (does not check values)\n",
        "print(2 in my_dict.values()) # Output: True (explicitly checks values)\n",
        "```\n",
        "\n",
        "\n",
        "### **Key Differences**\n",
        "| Feature          | Lists (`in`) | Dictionaries (`in`) |\n",
        "|-----------------|-------------|---------------------|\n",
        "| **Checks**      | Values      | Keys (not values)   |\n",
        "| **Speed**       | `O(n)` (slow) | `O(1)` (fast)     |\n",
        "| **Use Case**    | Best for small lists | Optimized for key lookups |\n",
        "\n",
        "\n",
        "### **When to Use Which**\n",
        "- Use **`in` with lists** when:\n",
        "  - The list is small.\n",
        "  - You need to check for value existence (not keys).\n",
        "- Use **`in` with dictionaries** when:\n",
        "  - You need fast key lookups (e.g., checking if a user exists in a database).\n",
        "  - If you need to check values, use `dict.values()` (but note it’s `O(n)`).\n",
        "---\n",
        "15. Can you modify the elements of a tuple? Explain why or why not?\n",
        "\n",
        "- In Python, **tuples are immutable**, meaning **you cannot modify their elements after creation**. Here’s why and how this works:\n",
        "\n",
        "\n",
        "### ** Tuples Are Immutable**\n",
        "1. **Design Purpose**:  \n",
        "   - Tuples are meant to store fixed collections of items (e.g., coordinates `(x, y)`, database records).  \n",
        "   - Immutability ensures data integrity and safety (e.g., using tuples as dictionary keys).\n",
        "\n",
        "2. **Performance**:  \n",
        "   - Immutable objects are faster to access and can be optimized by Python’s interpreter.\n",
        "\n",
        "3. **Hashability**:  \n",
        "   - Tuples can be used as dictionary keys because they are immutable (and thus hashable), unlike lists.\n",
        "\n",
        "\n",
        "\n",
        "### **What Happens If You Try to Modify a Tuple?**\n",
        "Python raises a **`TypeError`** if you attempt to change a tuple directly.  \n",
        "\n",
        "#### Example (Fails):\n",
        "```python\n",
        "my_tuple = (1, 2, 3)\n",
        "my_tuple[0] = 10  # TypeError: 'tuple' object does not support item assignment\n",
        "```\n",
        "\n",
        "\n",
        "### **Workarounds (Indirect \"Modification\")**\n",
        "Since tuples are immutable, you must create a **new tuple** instead. Here are two common approaches:\n",
        "\n",
        "#### 1. **Convert to List, Modify, and Convert Back**  \n",
        "   ```python\n",
        "   my_tuple = (1, 2, 3)\n",
        "   temp_list = list(my_tuple)  # Convert to list\n",
        "   temp_list[0] = 10           # Modify the list\n",
        "   my_tuple = tuple(temp_list) # Convert back to tuple\n",
        "   print(my_tuple)             # Output: (10, 2, 3)\n",
        "   ```\n",
        "\n",
        "#### 2. **Concatenate Slices**  \n",
        "   ```python\n",
        "   my_tuple = (1, 2, 3)\n",
        "   my_tuple = (10,) + my_tuple[1:]  # New tuple: (10, 2, 3)\n",
        "   ```\n",
        "\n",
        "\n",
        "### **Key points**\n",
        "Tuples cannot be modified directly, but you can create new tuples from existing ones. Their immutability is a feature (not a bug) for safety and efficiency.  \n",
        "\n",
        "---\n",
        "16. What is a nested dictionary, and give an example of its use case?\n",
        "\n",
        "- A **nested dictionary** is a dictionary that contains other dictionaries as values. This allows you to store hierarchical or structured data, similar to JSON.  \n",
        "\n",
        "#### **Example Structure:**\n",
        "```python\n",
        "nested_dict = {\n",
        "    \"person1\": {\"name\": \"Alice\", \"age\": 25, \"city\": \"New York\"},\n",
        "    \"person2\": {\"name\": \"Bob\", \"age\": 30, \"city\": \"London\"}\n",
        "}\n",
        "```\n",
        "Here, the outer dictionary (`nested_dict`) has keys (`\"person1\"`, `\"person2\"`), and each key maps to another dictionary containing details like `name`, `age`, and `city`.\n",
        "\n",
        "\n",
        "\n",
        "### **Common Use Cases**  \n",
        "1. **Storing Multi-Level Data** (e.g., user profiles, configurations).  \n",
        "2. **Representing JSON-like Structures** (APIs often return nested dictionaries).  \n",
        "3. **Organizing Hierarchical Data** (e.g., company departments → employees → details).  \n",
        "\n",
        "\n",
        "\n",
        "### **Example: Employee Database**  \n",
        "```python\n",
        "employees = {\n",
        "    \"emp1\": {\n",
        "        \"name\": \"Rahul\",\n",
        "        \"role\": \"Developer\",\n",
        "        \"skills\": [\"Python\", \"SQL\"]\n",
        "    },\n",
        "    \"emp2\": {\n",
        "        \"name\": \"Priya\",\n",
        "        \"role\": \"Designer\",\n",
        "        \"skills\": [\"Photoshop\", \"Figma\"]\n",
        "    }\n",
        "}\n",
        "\n",
        "# Accessing nested data\n",
        "print(employees[\"emp1\"][\"name\"])      # Output: Rahul\n",
        "print(employees[\"emp2\"][\"skills\"][0]) # Output: Photoshop\n",
        "\n",
        "# Modifying nested data\n",
        "employees[\"emp1\"][\"role\"] = \"Senior Developer\"  # Updates role\n",
        "employees[\"emp2\"][\"skills\"].append(\"UI/UX\")    # Adds a new skill\n",
        "```\n",
        "---\n",
        "17. Describe the time complexity of accessing elements in a dictionary?\n",
        "\n",
        "- In Python, dictionaries are implemented as **hash tables**, which makes element access highly efficient. Here’s a breakdown of the time complexity for common operations:  \n",
        "\n",
        "| **Operation**               | **Time Complexity** | **Description**                                                                 |\n",
        "|-----------------------------|---------------------|--------------------------------------------------------------------------------|\n",
        "| **Access a value by key**   | `O(1)` average      | Direct lookup using the key’s hash.                                            |\n",
        "| **Check if key exists**     | `O(1)` average      | Uses `in` operator (e.g., `\"key\" in dict`).                                    |\n",
        "| **Get all keys (`dict.keys()`)** | `O(1)`*          | Returns a view object (not a list). Iteration is `O(n)`.                       |\n",
        "| **Get all values (`dict.values()`)** | `O(1)`*      | Returns a view object. Iteration is `O(n)`.                                    |\n",
        "| **Get all items (`dict.items()`)**  | `O(1)`*         | Returns a view object. Iteration is `O(n)`.                                    |\n",
        "\n",
        "* *Views are dynamic and don’t create a new list, so getting them is `O(1)`, but iterating is `O(n)`.*\n",
        "---\n",
        "18. In what situations are lists preferred over dictionaries?\n",
        "\n",
        "- Lists and dictionaries serve different purposes in Python, and choosing the right one depends on the specific use case. Here’s when **lists are preferred over dictionaries**:\n",
        "\n",
        "\n",
        "### **1. When Order Matters**  \n",
        "- **Lists** maintain **insertion order** (since Python 3.7, dictionaries also do, but lists are the idiomatic choice for ordered sequences).  \n",
        "- **Use Case**: Storing log entries, time-series data, or queues where sequence is critical.  \n",
        "  ```python\n",
        "  tasks = [\"task1\", \"task2\", \"task3\"]  # Order is preserved.\n",
        "  ```\n",
        "\n",
        "\n",
        "\n",
        "### **2. When You Need Index-Based Access**  \n",
        "- **Lists** allow fast `O(1)` access by integer index (e.g., `list[0]`).  \n",
        "- **Dictionaries** require keys (no positional indexing).  \n",
        "- **Use Case**: Processing data sequentially (e.g., arrays, matrices).  \n",
        "  ```python\n",
        "  matrix = [[1, 2], [3, 4]]\n",
        "  print(matrix[0][1])  # Output: 2 (easy row/column access).\n",
        "  ```\n",
        "\n",
        "\n",
        "\n",
        "### **3. When Storing Duplicates**  \n",
        "- **Lists** allow duplicate values.  \n",
        "- **Dictionaries** enforce **unique keys** (values can be duplicates, but keys cannot).  \n",
        "- **Use Case**: Logging repeated events or non-unique data.  \n",
        "  ```python\n",
        "  log_errors = [\"error404\", \"error500\", \"error404\"]  # Duplicates allowed.\n",
        "  ```\n",
        "\n",
        "\n",
        "\n",
        "### **4. When Memory Efficiency is Critical**  \n",
        "- **Lists** consume **less memory** than dictionaries for the same number of elements.  \n",
        "- **Dictionaries** store keys + values + hashes (overhead for fast lookups).  \n",
        "- **Use Case**: Large datasets where memory is constrained.  \n",
        "  ```python\n",
        "  # Lists are more memory-efficient for simple sequences.\n",
        "  big_list = [x for x in range(1_000_000)]  \n",
        "  ```\n",
        "\n",
        "\n",
        "### **5. When You Need Stack/Queue Operations**  \n",
        "- **Lists** support `.append()` (stack) and `.pop(0)` (queue, though `collections.deque` is better).  \n",
        "- **Dictionaries** are not designed for FIFO/LIFO operations.  \n",
        "- **Use Case**: Implementing algorithms like BFS/DFS.  \n",
        "  ```python\n",
        "  stack = []\n",
        "  stack.append(\"item1\")  # Push\n",
        "  stack.pop()           # Pop (LIFO)\n",
        "  ```\n",
        "\n",
        "\n",
        "### **6. When Iterating Over All Elements**  \n",
        "- **Lists** are slightly faster for full iteration (no hash computation needed).  \n",
        "- **Dictionaries** require iterating over keys/values/items.  \n",
        "- **Use Case**: Batch processing (e.g., applying a function to all elements).  \n",
        "  ```python\n",
        "  numbers = [1, 2, 3]\n",
        "  squared = [x ** 2 for x in numbers]  # Faster than dict iteration.\n",
        "  ```\n",
        "\n",
        "\n",
        "### **7. When Keys Are Sequential Integers**  \n",
        "- If your keys are **0, 1, 2, ...**, a list is simpler and faster.  \n",
        "- **Dictionaries** waste space storing integer keys redundantly.  \n",
        "- **Use Case**: Storing arrays or vectors.  \n",
        "  ```python\n",
        "  # Prefer this:\n",
        "  temperatures = [98.6, 99.1, 100.2]  \n",
        "  # Over this:\n",
        "  temps_dict = {0: 98.6, 1: 99.1, 2: 100.2}  # Unnecessary.\n",
        "  ```\n",
        "---\n",
        "\n",
        "19. Why are dictionaries considered unordered, and how does that affect data retrieval?\n",
        "  \n",
        "- In Python (before version 3.7), dictionaries were **officially unordered**, meaning the order of key-value pairs was not guaranteed to match insertion order. This was due to how dictionaries are implemented under the hood:  \n",
        "\n",
        "#### **1. Hash Table Implementation**  \n",
        "- Dictionaries use a **hash table** to store keys and values.  \n",
        "- The position of each key-value pair is determined by a **hash function**, which scrambles keys into random-looking indices for fast lookups (`O(1)`).  \n",
        "- This hashing process **does not preserve insertion order**.  \n",
        "\n",
        "#### **2. Dynamic Resizing**  \n",
        "- When a dictionary grows (new keys added), Python resizes its internal storage to maintain efficiency.  \n",
        "- During resizing, key-value pairs may be **rearranged in memory**, further disrupting order.  \n",
        "\n",
        "#### **3. Python 3.7+ Change**  \n",
        "- Starting with Python 3.7, dictionaries **officially preserve insertion order** as an implementation detail.  \n",
        "- However, this was mainly for consistency (since `collections.OrderedDict` already existed).  \n",
        "- **Important**: Even in Python 3.7+, *relying on dictionary order for critical logic is discouraged* unless explicitly using `OrderedDict`.  \n",
        "\n",
        "\n",
        "\n",
        "### ** \"Unordered\" Behavior Affect Data Retrieval**  \n",
        "#### **1. Iteration Order is Unpredictable (Pre-3.7)**  \n",
        "```python\n",
        "# Python 3.6 and earlier\n",
        "d = {\"a\": 1, \"b\": 2, \"c\": 3}\n",
        "print(list(d.keys()))  # Could print [\"b\", \"a\", \"c\"] or any random order!\n",
        "```  \n",
        "- **Impact**: Code assuming order (e.g., `first_key = next(iter(d))`) could break across Python versions.  \n",
        "\n",
        "#### **2. Equality Checks Ignore Order**  \n",
        "```python\n",
        "d1 = {\"a\": 1, \"b\": 2}\n",
        "d2 = {\"b\": 2, \"a\": 1}\n",
        "print(d1 == d2)  # True (order doesn’t matter for equality)\n",
        "```  \n",
        "- **Impact**: Safe for comparisons, but order-sensitive operations (e.g., serialization) need care.  \n",
        "\n",
        "#### **3. `dict.keys()`, `dict.values()`, `dict.items()` Are Order-Agnostic**  \n",
        "- Pre-3.7, these methods returned items in arbitrary order.  \n",
        "- Post-3.7, they match insertion order, but **code should not assume this** unless version-guaranteed.  \n",
        "\n",
        "#### **4. Performance Optimizations Rely on Hashing**  \n",
        "- Dictionaries prioritize **speed** (`O(1)` lookups) over order.  \n",
        "- If order matters, use:  \n",
        "  - **`collections.OrderedDict`** (explicitly ordered, even pre-3.7).  \n",
        "  - **Lists of tuples** (e.g., `[(\"a\", 1), (\"b\", 2)]`) for ordered pairs.  \n",
        "\n",
        "---\n",
        "\n",
        "20. Explain the difference between a list and a dictionary in terms of data retrieval.\n",
        "\n",
        "- In Python, **lists** and **dictionaries** are both used to store collections of data, but they differ significantly in how they retrieve data:\n",
        "\n",
        "### **List**\n",
        "- **Ordered collection** (index-based).\n",
        "- Retrieves elements by their **integer index** (position).\n",
        "- Slower for lookups (especially in large lists) because Python has to scan each element sequentially until a match is found.\n",
        "- Example:\n",
        "  ```python\n",
        "  my_list = [\"apple\", \"banana\", \"cherry\"]\n",
        "  print(my_list[1])  # Output: \"banana\" (accessed by index)\n",
        "  ```\n",
        "\n",
        "### **Dictionary**\n",
        "- **Unordered collection** (key-value pairs).\n",
        "- Retrieves elements by a **unique key** (any hashable type like strings, numbers, or tuples).\n",
        "- Much faster for lookups (O(1) average time complexity) because Python uses a hash table to locate the value directly.\n",
        "- Example:\n",
        "  ```python\n",
        "  my_dict = {\"fruit1\": \"apple\", \"fruit2\": \"banana\", \"fruit3\": \"cherry\"}\n",
        "  print(my_dict[\"fruit2\"])  # Output: \"banana\" (accessed by key)\n",
        "  ```\n",
        "\n",
        "### **Key Differences in Retrieval**\n",
        "| Feature        | List                            | Dictionary                     |\n",
        "|---------------|--------------------------------|--------------------------------|\n",
        "| **Access Method** | Index (position, e.g., `[0]`)  | Key (e.g., `[\"name\"]`)         |\n",
        "| **Lookup Speed** | O(n) (slower for large lists)  | O(1) (very fast)               |\n",
        "| **Use Case**   | Ordered data, sequential access | Fast lookups by unique keys    |\n",
        "\n",
        "---"
      ],
      "metadata": {
        "id": "Q_L--KF5JJEO"
      }
    },
    {
      "cell_type": "markdown",
      "source": [
        "#Practical Questions"
      ],
      "metadata": {
        "id": "hbNhUbkvjm-8"
      }
    },
    {
      "cell_type": "code",
      "source": [
        "# 1. Write a code to create a string with your name and print it.\n",
        "name = \"ANURAG SINGH\"\n",
        "print(name)"
      ],
      "metadata": {
        "colab": {
          "base_uri": "https://localhost:8080/"
        },
        "id": "kLIGw_hYjtX0",
        "outputId": "2623630e-7eea-47ee-a3c7-92713b92fac1"
      },
      "execution_count": 1,
      "outputs": [
        {
          "output_type": "stream",
          "name": "stdout",
          "text": [
            "ANURAG SINGH\n"
          ]
        }
      ]
    },
    {
      "cell_type": "code",
      "source": [
        "# 2. Write a code to find the length of the string \"Hello World\".\n",
        "text = \"Hello World\"\n",
        "print(len(text))  # Output: 11"
      ],
      "metadata": {
        "colab": {
          "base_uri": "https://localhost:8080/"
        },
        "id": "7MkTxpStkTdK",
        "outputId": "3fc5f413-9473-446c-fe25-c61e91d8061d"
      },
      "execution_count": 2,
      "outputs": [
        {
          "output_type": "stream",
          "name": "stdout",
          "text": [
            "11\n"
          ]
        }
      ]
    },
    {
      "cell_type": "code",
      "source": [
        "# 3. Write a code to slice the first 3 characters from the string \"Python Programming\".\n",
        "text = \"Python Programming\"\n",
        "print(text[:3])  # Output: \"Pyt\""
      ],
      "metadata": {
        "colab": {
          "base_uri": "https://localhost:8080/"
        },
        "id": "IMr3b3MGkd-p",
        "outputId": "231366a7-162e-41c5-9b35-f075ecbaad37"
      },
      "execution_count": 3,
      "outputs": [
        {
          "output_type": "stream",
          "name": "stdout",
          "text": [
            "Pyt\n"
          ]
        }
      ]
    },
    {
      "cell_type": "code",
      "source": [
        "# 4. Write a code to convert the string \"hello\" to uppercase.\n",
        "text = \"hello\"\n",
        "print(text.upper())  # Output: \"HELLO\""
      ],
      "metadata": {
        "colab": {
          "base_uri": "https://localhost:8080/"
        },
        "id": "AlZRpW42kqDB",
        "outputId": "35c36a59-11a7-45a4-c744-ace9a7d809be"
      },
      "execution_count": 4,
      "outputs": [
        {
          "output_type": "stream",
          "name": "stdout",
          "text": [
            "HELLO\n"
          ]
        }
      ]
    },
    {
      "cell_type": "code",
      "source": [
        "# 5. Write a code to replace the word \"apple\" with \"orange\" in the string \"I like apple\".\n",
        "text = \"I like apple\"\n",
        "print(text.replace(\"apple\", \"orange\"))  # Output: \"I like orange\""
      ],
      "metadata": {
        "colab": {
          "base_uri": "https://localhost:8080/"
        },
        "id": "OXiLLrdYk4kx",
        "outputId": "a72333ec-4611-463c-e2be-a0625653ee7b"
      },
      "execution_count": 5,
      "outputs": [
        {
          "output_type": "stream",
          "name": "stdout",
          "text": [
            "I like orange\n"
          ]
        }
      ]
    },
    {
      "cell_type": "code",
      "source": [
        "# 6. Write a code to create a list with numbers 1 to 5 and print it.\n",
        "numbers = [1, 2, 3, 4, 5]\n",
        "print(numbers)"
      ],
      "metadata": {
        "colab": {
          "base_uri": "https://localhost:8080/"
        },
        "id": "-r5O1LR-lGGA",
        "outputId": "699a2e19-bfea-427a-ac14-2ce43b30b082"
      },
      "execution_count": 6,
      "outputs": [
        {
          "output_type": "stream",
          "name": "stdout",
          "text": [
            "[1, 2, 3, 4, 5]\n"
          ]
        }
      ]
    },
    {
      "cell_type": "code",
      "source": [
        "# 7. Write a code to append the number 10 to the list [1, 2, 3, 4].\n",
        "numbers = [1, 2, 3, 4]\n",
        "numbers.append(10)\n",
        "print(numbers)  # Output: [1, 2, 3, 4, 10]"
      ],
      "metadata": {
        "colab": {
          "base_uri": "https://localhost:8080/"
        },
        "id": "AgTVl_sBlPRv",
        "outputId": "e52f96ba-74a7-41cb-c4ed-bf34db36e237"
      },
      "execution_count": 7,
      "outputs": [
        {
          "output_type": "stream",
          "name": "stdout",
          "text": [
            "[1, 2, 3, 4, 10]\n"
          ]
        }
      ]
    },
    {
      "cell_type": "code",
      "source": [
        "# 8. Write a code to remove the number 3 from the list [1, 2, 3, 4, 5].\n",
        "numbers = [1, 2, 3, 4, 5]\n",
        "numbers.remove(3)\n",
        "print(numbers)  # Output: [1, 2, 4, 5]"
      ],
      "metadata": {
        "colab": {
          "base_uri": "https://localhost:8080/"
        },
        "id": "0J86YoZSlZXG",
        "outputId": "8b97b893-28be-4caa-e077-b7ca9c28efb8"
      },
      "execution_count": 8,
      "outputs": [
        {
          "output_type": "stream",
          "name": "stdout",
          "text": [
            "[1, 2, 4, 5]\n"
          ]
        }
      ]
    },
    {
      "cell_type": "code",
      "source": [
        "# 9. Write a code to access the second element in the list ['a', 'b', 'c', 'd'].\n",
        "letters = ['a', 'b', 'c', 'd']\n",
        "print(letters[1])  # Output: 'b' (indexing starts at 0)"
      ],
      "metadata": {
        "colab": {
          "base_uri": "https://localhost:8080/"
        },
        "id": "ZRieNjfmliJO",
        "outputId": "b523b8e2-c45f-49a8-adc0-764f996cd98f"
      },
      "execution_count": 9,
      "outputs": [
        {
          "output_type": "stream",
          "name": "stdout",
          "text": [
            "b\n"
          ]
        }
      ]
    },
    {
      "cell_type": "code",
      "source": [
        "# 10. Write a code to reverse the list [10, 20, 30, 40, 50].\n",
        "numbers = [10, 20, 30, 40, 50]\n",
        "numbers.reverse()\n",
        "print(numbers)  # Output: [50, 40, 30, 20, 10]"
      ],
      "metadata": {
        "colab": {
          "base_uri": "https://localhost:8080/"
        },
        "id": "qCuVlUUPlsPu",
        "outputId": "fb05df1e-5530-4564-82f5-74fcac7ccf09"
      },
      "execution_count": 10,
      "outputs": [
        {
          "output_type": "stream",
          "name": "stdout",
          "text": [
            "[50, 40, 30, 20, 10]\n"
          ]
        }
      ]
    },
    {
      "cell_type": "code",
      "source": [
        "# 11. Write a code to create a tuple with the elements 100, 200, 300 and print it.\n",
        "my_tuple = (100, 200, 300)\n",
        "print(my_tuple)"
      ],
      "metadata": {
        "colab": {
          "base_uri": "https://localhost:8080/"
        },
        "id": "FE9I7-l-l1l1",
        "outputId": "ef5b090a-45e2-4568-f740-4574a6a463fa"
      },
      "execution_count": 11,
      "outputs": [
        {
          "output_type": "stream",
          "name": "stdout",
          "text": [
            "(100, 200, 300)\n"
          ]
        }
      ]
    },
    {
      "cell_type": "code",
      "source": [
        "# 12. Write a code to access the second-to-last element of the tuple ('red', 'green', 'blue', 'yellow').\n",
        "colors = ('red', 'green', 'blue', 'yellow')\n",
        "print(colors[-2])  # Output: 'blue'"
      ],
      "metadata": {
        "colab": {
          "base_uri": "https://localhost:8080/"
        },
        "id": "57GV41Eul-VF",
        "outputId": "ddb9b2d9-e146-4136-b857-7fd1dc115218"
      },
      "execution_count": 12,
      "outputs": [
        {
          "output_type": "stream",
          "name": "stdout",
          "text": [
            "blue\n"
          ]
        }
      ]
    },
    {
      "cell_type": "code",
      "source": [
        "# 13. Write a code to find the minimum number in the tuple (10, 20, 5, 15).\n",
        "numbers = (10, 20, 5, 15)\n",
        "print(min(numbers))  # Output: 5"
      ],
      "metadata": {
        "colab": {
          "base_uri": "https://localhost:8080/"
        },
        "id": "ByMR7QtimKy8",
        "outputId": "91d9e1fe-e20b-409a-c154-ff25d21b2838"
      },
      "execution_count": 13,
      "outputs": [
        {
          "output_type": "stream",
          "name": "stdout",
          "text": [
            "5\n"
          ]
        }
      ]
    },
    {
      "cell_type": "code",
      "source": [
        "# 14. Write a code to find the index of the element \"cat\" in the tuple ('dog', 'cat', 'rabbit').\n",
        "animals = ('dog', 'cat', 'rabbit')\n",
        "print(animals.index('cat'))  # Output: 1"
      ],
      "metadata": {
        "colab": {
          "base_uri": "https://localhost:8080/"
        },
        "id": "b-y9eYGzmScE",
        "outputId": "5791e24b-1813-4130-8d29-2ef63cdb75ec"
      },
      "execution_count": 14,
      "outputs": [
        {
          "output_type": "stream",
          "name": "stdout",
          "text": [
            "1\n"
          ]
        }
      ]
    },
    {
      "cell_type": "code",
      "source": [
        "# 15. Write a code to create a tuple containing three different fruits and check if \"kiwi\" is in it.\n",
        "fruits = ('apple', 'banana', 'orange')\n",
        "print('kiwi' in fruits)  # Output: False"
      ],
      "metadata": {
        "colab": {
          "base_uri": "https://localhost:8080/"
        },
        "id": "vEfe5_ajmbYk",
        "outputId": "ce7eb2cd-37ed-402a-abff-f4b7c039ead7"
      },
      "execution_count": 15,
      "outputs": [
        {
          "output_type": "stream",
          "name": "stdout",
          "text": [
            "False\n"
          ]
        }
      ]
    },
    {
      "cell_type": "code",
      "source": [
        "# 16. Write a code to create a set with the elements 'a', 'b', 'c' and print it.\n",
        "my_set = {'a', 'b', 'c'}\n",
        "print(my_set)"
      ],
      "metadata": {
        "colab": {
          "base_uri": "https://localhost:8080/"
        },
        "id": "DYDj31OSmjMz",
        "outputId": "102c4e99-4a97-4dfb-c962-42540e566b84"
      },
      "execution_count": 16,
      "outputs": [
        {
          "output_type": "stream",
          "name": "stdout",
          "text": [
            "{'b', 'a', 'c'}\n"
          ]
        }
      ]
    },
    {
      "cell_type": "code",
      "source": [
        "# 17. Write a code to clear all elements from the set {1, 2, 3, 4, 5}.\n",
        "numbers = {1, 2, 3, 4, 5}\n",
        "numbers.clear()\n",
        "print(numbers)  # Output: set()"
      ],
      "metadata": {
        "colab": {
          "base_uri": "https://localhost:8080/"
        },
        "id": "Q2E16hIpmser",
        "outputId": "bc3a86f5-6d51-4907-9b81-59581e93349f"
      },
      "execution_count": 17,
      "outputs": [
        {
          "output_type": "stream",
          "name": "stdout",
          "text": [
            "set()\n"
          ]
        }
      ]
    },
    {
      "cell_type": "code",
      "source": [
        "# 18. Write a code to remove the element 4 from the set {1, 2, 3, 4}.\n",
        "numbers = {1, 2, 3, 4}\n",
        "numbers.remove(4)\n",
        "print(numbers)  # Output: {1, 2, 3}"
      ],
      "metadata": {
        "colab": {
          "base_uri": "https://localhost:8080/"
        },
        "id": "4Khinb6Pm4G7",
        "outputId": "609ff589-5c5b-4417-fcfd-9d8c2994d02a"
      },
      "execution_count": 18,
      "outputs": [
        {
          "output_type": "stream",
          "name": "stdout",
          "text": [
            "{1, 2, 3}\n"
          ]
        }
      ]
    },
    {
      "cell_type": "code",
      "source": [
        "# 19. Write a code to find the union of two sets {1, 2, 3} and {3, 4, 5}.\n",
        "set1 = {1, 2, 3}\n",
        "set2 = {3, 4, 5}\n",
        "print(set1.union(set2))  # Output: {1, 2, 3, 4, 5}"
      ],
      "metadata": {
        "colab": {
          "base_uri": "https://localhost:8080/"
        },
        "id": "MjII_pKEnAkS",
        "outputId": "7350b690-45b8-4097-adb2-95b80096846e"
      },
      "execution_count": 19,
      "outputs": [
        {
          "output_type": "stream",
          "name": "stdout",
          "text": [
            "{1, 2, 3, 4, 5}\n"
          ]
        }
      ]
    },
    {
      "cell_type": "code",
      "source": [
        "# 20. Write a code to find the intersection of two sets {1, 2, 3} and {2, 3, 4}.\n",
        "set1 = {1, 2, 3}\n",
        "set2 = {2, 3, 4}\n",
        "print(set1.intersection(set2))  # Output: {2, 3}"
      ],
      "metadata": {
        "colab": {
          "base_uri": "https://localhost:8080/"
        },
        "id": "gR1DWBienGey",
        "outputId": "1d3fbeb5-90cf-4974-db53-d499eb54d820"
      },
      "execution_count": 20,
      "outputs": [
        {
          "output_type": "stream",
          "name": "stdout",
          "text": [
            "{2, 3}\n"
          ]
        }
      ]
    },
    {
      "cell_type": "code",
      "source": [
        "# 21. Write a code to create a dictionary with the keys \"name\", \"age\", and \"city\", and print it.\n",
        "person = {\"name\": \"anurag\", \"age\": 25, \"city\": \"New York\"}\n",
        "print(person)"
      ],
      "metadata": {
        "colab": {
          "base_uri": "https://localhost:8080/"
        },
        "id": "YnZvBYXsnMTR",
        "outputId": "e2814d3c-6203-46ba-b644-305e949526a6"
      },
      "execution_count": 25,
      "outputs": [
        {
          "output_type": "stream",
          "name": "stdout",
          "text": [
            "{'name': 'anurag', 'age': 25, 'city': 'New York'}\n"
          ]
        }
      ]
    },
    {
      "cell_type": "code",
      "source": [
        "# 22. Write a code to add a new key-value pair \"country\": \"USA\" to the dictionary {'name': 'John', 'age': 25}.\n",
        "person = {'name': 'John', 'age': 25}\n",
        "person['country'] = 'USA'\n",
        "print(person)  # Output: {'name': 'John', 'age': 25, 'country': 'USA'}"
      ],
      "metadata": {
        "colab": {
          "base_uri": "https://localhost:8080/"
        },
        "id": "Tfbsu5MInXlo",
        "outputId": "30dd427d-fc88-4bda-b081-b42b7f2276d8"
      },
      "execution_count": 24,
      "outputs": [
        {
          "output_type": "stream",
          "name": "stdout",
          "text": [
            "{'name': 'John', 'age': 25, 'country': 'USA'}\n"
          ]
        }
      ]
    },
    {
      "cell_type": "code",
      "source": [
        "# 23. Write a code to access the value associated with the key \"name\" in the dictionary {'name': 'Alice', 'age': 30}.\n",
        "person = {'name': 'Alice', 'age': 30}\n",
        "print(person['name'])  # Output: 'Alice'"
      ],
      "metadata": {
        "colab": {
          "base_uri": "https://localhost:8080/"
        },
        "id": "9HqNc1ZNnpcX",
        "outputId": "d035a5f4-760d-4170-93be-a67d0b77bae1"
      },
      "execution_count": 26,
      "outputs": [
        {
          "output_type": "stream",
          "name": "stdout",
          "text": [
            "Alice\n"
          ]
        }
      ]
    },
    {
      "cell_type": "code",
      "source": [
        "# 24. Write a code to remove the key \"age\" from the dictionary {'name': 'Bob', 'age': 22, 'city': 'New York'}.\n",
        "person = {'name': 'Bob', 'age': 22, 'city': 'New York'}\n",
        "del person['age']\n",
        "print(person)  # Output: {'name': 'Bob', 'city': 'New York'}"
      ],
      "metadata": {
        "colab": {
          "base_uri": "https://localhost:8080/"
        },
        "id": "RMIyuoTZnylP",
        "outputId": "2f1696b2-5d15-4859-886b-b76a14c89e19"
      },
      "execution_count": 27,
      "outputs": [
        {
          "output_type": "stream",
          "name": "stdout",
          "text": [
            "{'name': 'Bob', 'city': 'New York'}\n"
          ]
        }
      ]
    },
    {
      "cell_type": "code",
      "source": [
        "# 25. Write a code to check if the key \"city\" exists in the dictionary {'name': 'Alice', 'city': 'Paris'}.\n",
        "person = {'name': 'Alice', 'city': 'Paris'}\n",
        "print('city' in person)  # Output: True"
      ],
      "metadata": {
        "colab": {
          "base_uri": "https://localhost:8080/"
        },
        "id": "cn3ZUWZDn5qv",
        "outputId": "6f5b5381-95d7-4a45-a1ef-938886d0e04b"
      },
      "execution_count": 28,
      "outputs": [
        {
          "output_type": "stream",
          "name": "stdout",
          "text": [
            "True\n"
          ]
        }
      ]
    },
    {
      "cell_type": "code",
      "source": [
        "# 26. Write a code to create a list, a tuple, and a dictionary, and print them all.\n",
        "my_list = [1, 2, 3]\n",
        "my_tuple = (4, 5, 6)\n",
        "my_dict = {'a': 1, 'b': 2}\n",
        "\n",
        "print(my_list, my_tuple, my_dict)"
      ],
      "metadata": {
        "colab": {
          "base_uri": "https://localhost:8080/"
        },
        "id": "uoYFXYWkn_4B",
        "outputId": "30d10705-8a66-4113-d269-f4be47bf413f"
      },
      "execution_count": 29,
      "outputs": [
        {
          "output_type": "stream",
          "name": "stdout",
          "text": [
            "[1, 2, 3] (4, 5, 6) {'a': 1, 'b': 2}\n"
          ]
        }
      ]
    },
    {
      "cell_type": "code",
      "source": [
        "# 27. Write a code to create a list of 5 random numbers between 1 and 100, sort it in ascending order, and print the result.(replaced)\n",
        "import random\n",
        "\n",
        "# Generate a list of 5 random numbers between 1 and 100\n",
        "random_numbers = [random.randint(1, 100) for _ in range(5)]\n",
        "\n",
        "# Sort the list in ascending order\n",
        "random_numbers.sort()\n",
        "\n",
        "# Print the sorted list\n",
        "print(random_numbers)"
      ],
      "metadata": {
        "colab": {
          "base_uri": "https://localhost:8080/"
        },
        "id": "dDvr5_73oJgO",
        "outputId": "bad49e6f-9c94-4444-bb50-ffb7b5fb7240"
      },
      "execution_count": 38,
      "outputs": [
        {
          "output_type": "stream",
          "name": "stdout",
          "text": [
            "[6, 15, 61, 67, 99]\n"
          ]
        }
      ]
    },
    {
      "cell_type": "code",
      "source": [
        "# 28. Write a code to create a list with strings and print the element at the third index.\n",
        "fruits = ['apple', 'banana', 'cherry', 'date', 'elderberry']\n",
        "print(fruits[3])  # Output: 'date' (0-based indexing)"
      ],
      "metadata": {
        "colab": {
          "base_uri": "https://localhost:8080/"
        },
        "id": "FMPr6wPBor1O",
        "outputId": "1e8d6d24-0cfa-4af1-a4bf-032b8c4486d7"
      },
      "execution_count": 35,
      "outputs": [
        {
          "output_type": "stream",
          "name": "stdout",
          "text": [
            "date\n"
          ]
        }
      ]
    },
    {
      "cell_type": "code",
      "source": [
        "# 29. Write a code to combine two dictionaries into one and print the result.\n",
        "dict1 = {'a': 1, 'b': 2}\n",
        "dict2 = {'c': 3, 'd': 4}\n",
        "combined = {**dict1, **dict2}\n",
        "print(combined)  # Output: {'a': 1, 'b': 2, 'c': 3, 'd': 4}"
      ],
      "metadata": {
        "colab": {
          "base_uri": "https://localhost:8080/"
        },
        "id": "qBJOVeNLpEqj",
        "outputId": "85cb9231-9f30-4f56-81a9-5790e312e329"
      },
      "execution_count": 36,
      "outputs": [
        {
          "output_type": "stream",
          "name": "stdout",
          "text": [
            "{'a': 1, 'b': 2, 'c': 3, 'd': 4}\n"
          ]
        }
      ]
    },
    {
      "cell_type": "code",
      "source": [
        "# 30. Write a code to convert a list of strings into a set.\n",
        "words = ['hello', 'world', 'hello', 'python']\n",
        "unique_words = set(words)\n",
        "print(unique_words)  # Output: {'hello', 'world', 'python'}"
      ],
      "metadata": {
        "colab": {
          "base_uri": "https://localhost:8080/"
        },
        "id": "PEbLZHZKpVzT",
        "outputId": "343d3b5e-1b43-4a6c-886d-61ed8296e62c"
      },
      "execution_count": 37,
      "outputs": [
        {
          "output_type": "stream",
          "name": "stdout",
          "text": [
            "{'python', 'world', 'hello'}\n"
          ]
        }
      ]
    }
  ]
}